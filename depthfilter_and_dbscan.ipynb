{
 "cells": [
  {
   "cell_type": "code",
   "execution_count": 1,
   "id": "d16c9f96-ec92-4b6a-b8b8-5e333609b7ad",
   "metadata": {},
   "outputs": [],
   "source": [
    "%matplotlib qt5"
   ]
  },
  {
   "cell_type": "code",
   "execution_count": 2,
   "id": "b6d78603-7e1b-473b-a84c-b05be1d77348",
   "metadata": {},
   "outputs": [],
   "source": [
    "# coding=utf-8\n",
    "\n",
    "import numpy as np\n",
    "from argparse import Namespace\n",
    "\n",
    "from PIL import Image\n",
    "import matplotlib.pyplot as plt\n",
    "from mpl_toolkits.mplot3d import Axes3D\n",
    "\n",
    "camera_matrix = {'xc': 127.5, 'zc': 127.5, 'f': 128}\n",
    "camera_matrix = Namespace(**camera_matrix)\n",
    "def get_point_cloud_from_z(Y, camera_matrix, scale=1):\n",
    "    x, z = np.meshgrid(np.arange(Y.shape[-1]),\n",
    "                       np.arange(Y.shape[-2] - 1, -1, -1))\n",
    "    for i in range(Y.ndim - 2):\n",
    "        x = np.expand_dims(x, axis=0)\n",
    "        z = np.expand_dims(z, axis=0)\n",
    "    X = (x[::scale, ::scale] - camera_matrix.xc) * Y[::scale, ::scale] / camera_matrix.f\n",
    "    Z = (z[::scale, ::scale] - camera_matrix.zc) * Y[::scale, ::scale] / camera_matrix.f\n",
    "    XYZ = np.concatenate((X[..., np.newaxis], Y[::scale, ::scale][..., np.newaxis]\n",
    "                          ,Z[..., np.newaxis]), axis=X.ndim)\n",
    "    return XYZ"
   ]
  },
  {
   "cell_type": "code",
   "execution_count": 3,
   "id": "7f8b2b58-d5f5-4b7c-abdc-4501f30aaaac",
   "metadata": {},
   "outputs": [],
   "source": [
    "img_noise = \"depth2.png\""
   ]
  },
  {
   "cell_type": "code",
   "execution_count": 4,
   "id": "41cb8504-330e-4000-9341-43d6be66380a",
   "metadata": {},
   "outputs": [],
   "source": [
    "image = Image.open(img_noise)\n",
    "img = np.asarray(image)\n",
    "img[img<1000] = 0\n",
    "img[img>2000] = 0"
   ]
  },
  {
   "cell_type": "code",
   "execution_count": 5,
   "id": "0fc9667b-2382-4211-bf03-1436b917be43",
   "metadata": {},
   "outputs": [
    {
     "name": "stdout",
     "output_type": "stream",
     "text": [
      "Requirement already satisfied: scikit-learn in d:\\programdata\\anaconda3\\envs\\torch\\lib\\site-packages (1.1.3)\n",
      "Requirement already satisfied: joblib>=1.0.0 in d:\\programdata\\anaconda3\\envs\\torch\\lib\\site-packages (from scikit-learn) (1.2.0)\n",
      "Requirement already satisfied: threadpoolctl>=2.0.0 in d:\\programdata\\anaconda3\\envs\\torch\\lib\\site-packages (from scikit-learn) (3.1.0)\n",
      "Requirement already satisfied: numpy>=1.17.3 in d:\\programdata\\anaconda3\\envs\\torch\\lib\\site-packages (from scikit-learn) (1.22.2)\n",
      "Requirement already satisfied: scipy>=1.3.2 in d:\\programdata\\anaconda3\\envs\\torch\\lib\\site-packages (from scikit-learn) (1.8.1)\n",
      "Note: you may need to restart the kernel to use updated packages.\n"
     ]
    }
   ],
   "source": [
    "pip install scikit-learn"
   ]
  },
  {
   "cell_type": "code",
   "execution_count": 6,
   "id": "99ecaaba-a557-48c5-80ab-819e7b214bcf",
   "metadata": {},
   "outputs": [],
   "source": [
    "from sklearn.cluster import DBSCAN"
   ]
  },
  {
   "cell_type": "code",
   "execution_count": 7,
   "id": "960f9623-3acf-481f-b6eb-cf7555d03a88",
   "metadata": {},
   "outputs": [],
   "source": [
    "x, y = np.indices(img.shape)\n",
    "idx = img > 0\n",
    "data = np.stack([x[idx], y[idx], img[idx]]).T"
   ]
  },
  {
   "cell_type": "code",
   "execution_count": 8,
   "id": "4c3062bf-ef45-4009-bde0-f793d0fa8e0b",
   "metadata": {},
   "outputs": [
    {
     "data": {
      "text/plain": [
       "(113840, 3)"
      ]
     },
     "execution_count": 8,
     "metadata": {},
     "output_type": "execute_result"
    }
   ],
   "source": [
    "data.shape"
   ]
  },
  {
   "cell_type": "code",
   "execution_count": 9,
   "id": "6f038377-2a26-4da9-b574-93d32a164aed",
   "metadata": {},
   "outputs": [],
   "source": [
    "recon = np.zeros_like(img)\n",
    "recon[data[:,0], data[:,1]] = data[:,2]\n",
    "assert (recon == img).all()"
   ]
  },
  {
   "cell_type": "code",
   "execution_count": 10,
   "id": "ce9c3831-12af-42be-bfc5-b688e0b8f161",
   "metadata": {},
   "outputs": [
    {
     "data": {
      "text/plain": [
       "array([-1, -1, -1, ..., -1, -1, -1], dtype=int64)"
      ]
     },
     "execution_count": 10,
     "metadata": {},
     "output_type": "execute_result"
    }
   ],
   "source": [
    "cluter = DBSCAN(eps=5, min_samples=5).fit(data)\n",
    "cluter.labels_"
   ]
  },
  {
   "cell_type": "code",
   "execution_count": 11,
   "id": "806b64b7-0e06-4476-a4e1-e66ef5e8139d",
   "metadata": {},
   "outputs": [],
   "source": [
    "from collections import Counter\n",
    "ct = Counter(cluter.labels_)"
   ]
  },
  {
   "cell_type": "code",
   "execution_count": 12,
   "id": "cf2dded6-5e17-4878-969e-052ed0117b40",
   "metadata": {},
   "outputs": [],
   "source": [
    "keys = set(k for k, v in ct.most_common()[:10] if k != -1)\n",
    "iidx = np.zeros_like(cluter.labels_, dtype=bool)\n",
    "for k in keys:\n",
    "    iidx = np.logical_or(iidx, cluter.labels_ == k)"
   ]
  },
  {
   "cell_type": "code",
   "execution_count": 13,
   "id": "0d019771-6fee-4996-a7d4-69b0e90e320b",
   "metadata": {},
   "outputs": [],
   "source": [
    "new_data = data.copy()\n",
    "new_data[:, 2][~iidx] = 0\n",
    "\n",
    "recon = np.zeros_like(img)\n",
    "recon[new_data[:,0], new_data[:,1]] = new_data[:,2]"
   ]
  },
  {
   "cell_type": "code",
   "execution_count": 14,
   "id": "c7dffde4-ea37-43f9-816e-054b68cde5e2",
   "metadata": {},
   "outputs": [],
   "source": [
    "XYZ = get_point_cloud_from_z(recon,camera_matrix,scale=1)\n",
    "ax = plt.axes(projection='3d')\n",
    "ax.plot(np.ndarray.flatten(XYZ[::,::,0]),np.ndarray.flatten(XYZ[::,::,1]),np.ndarray.flatten( XYZ[::,::,2]), 'b.', markersize=0.2)\n",
    "\n",
    "plt.title('point cloud')\n",
    "plt.show()"
   ]
  },
  {
   "cell_type": "code",
   "execution_count": 15,
   "id": "973b2db1-fa91-4fb9-b9ac-99ec08f88fce",
   "metadata": {},
   "outputs": [],
   "source": [
    "Image.fromarray(recon).save('filtered.png')"
   ]
  },
  {
   "cell_type": "code",
   "execution_count": null,
   "id": "99d95e1e-40d3-4e14-aa7c-b1a08bfff343",
   "metadata": {},
   "outputs": [],
   "source": []
  }
 ],
 "metadata": {
  "kernelspec": {
   "display_name": "Python 3 (ipykernel)",
   "language": "python",
   "name": "python3"
  },
  "language_info": {
   "codemirror_mode": {
    "name": "ipython",
    "version": 3
   },
   "file_extension": ".py",
   "mimetype": "text/x-python",
   "name": "python",
   "nbconvert_exporter": "python",
   "pygments_lexer": "ipython3",
   "version": "3.9.7"
  }
 },
 "nbformat": 4,
 "nbformat_minor": 5
}